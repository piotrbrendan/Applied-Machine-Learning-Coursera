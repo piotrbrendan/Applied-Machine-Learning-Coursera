{
 "cells": [
  {
   "cell_type": "markdown",
   "metadata": {},
   "source": [
    "## Applied ML Uni of Michigan - Assignment 1"
   ]
  },
  {
   "cell_type": "markdown",
   "metadata": {},
   "source": [
    "For this assignment, you will be using the Breast Cancer Wisconsin (Diagnostic) Database to create a classifier that can help diagnose patients. First, read through the description of the dataset (below)."
   ]
  },
  {
   "cell_type": "code",
   "execution_count": 13,
   "metadata": {
    "collapsed": true
   },
   "outputs": [],
   "source": [
    "import numpy as np\n",
    "import pandas as pd\n",
    "import pprint\n",
    "from sklearn.datasets import load_breast_cancer\n",
    "\n",
    "\n",
    "cancer = load_breast_cancer()"
   ]
  },
  {
   "cell_type": "code",
   "execution_count": 7,
   "metadata": {},
   "outputs": [
    {
     "data": {
      "text/plain": [
       "dict_keys(['data', 'target', 'target_names', 'DESCR', 'feature_names'])"
      ]
     },
     "execution_count": 7,
     "metadata": {},
     "output_type": "execute_result"
    }
   ],
   "source": [
    "cancer.keys()"
   ]
  },
  {
   "cell_type": "code",
   "execution_count": 14,
   "metadata": {},
   "outputs": [
    {
     "name": "stdout",
     "output_type": "stream",
     "text": [
      "('Breast Cancer Wisconsin (Diagnostic) Database\\n'\n",
      " '=============================================\\n'\n",
      " '\\n'\n",
      " 'Notes\\n'\n",
      " '-----\\n'\n",
      " 'Data Set Characteristics:\\n'\n",
      " '    :Number of Instances: 569\\n'\n",
      " '\\n'\n",
      " '    :Number of Attributes: 30 numeric, predictive attributes and the class\\n'\n",
      " '\\n'\n",
      " '    :Attribute Information:\\n'\n",
      " '        - radius (mean of distances from center to points on the perimeter)\\n'\n",
      " '        - texture (standard deviation of gray-scale values)\\n'\n",
      " '        - perimeter\\n'\n",
      " '        - area\\n'\n",
      " '        - smoothness (local variation in radius lengths)\\n'\n",
      " '        - compactness (perimeter^2 / area - 1.0)\\n'\n",
      " '        - concavity (severity of concave portions of the contour)\\n'\n",
      " '        - concave points (number of concave portions of the contour)\\n'\n",
      " '        - symmetry \\n'\n",
      " '        - fractal dimension (\"coastline approximation\" - 1)\\n'\n",
      " '\\n'\n",
      " '        The mean, standard error, and \"worst\" or largest (mean of the three\\n'\n",
      " '        largest values) of these features were computed for each image,\\n'\n",
      " '        resulting in 30 features.  For instance, field 3 is Mean Radius, '\n",
      " 'field\\n'\n",
      " '        13 is Radius SE, field 23 is Worst Radius.\\n'\n",
      " '\\n'\n",
      " '        - class:\\n'\n",
      " '                - WDBC-Malignant\\n'\n",
      " '                - WDBC-Benign\\n'\n",
      " '\\n'\n",
      " '    :Summary Statistics:\\n'\n",
      " '\\n'\n",
      " '    ===================================== ====== ======\\n'\n",
      " '                                           Min    Max\\n'\n",
      " '    ===================================== ====== ======\\n'\n",
      " '    radius (mean):                        6.981  28.11\\n'\n",
      " '    texture (mean):                       9.71   39.28\\n'\n",
      " '    perimeter (mean):                     43.79  188.5\\n'\n",
      " '    area (mean):                          143.5  2501.0\\n'\n",
      " '    smoothness (mean):                    0.053  0.163\\n'\n",
      " '    compactness (mean):                   0.019  0.345\\n'\n",
      " '    concavity (mean):                     0.0    0.427\\n'\n",
      " '    concave points (mean):                0.0    0.201\\n'\n",
      " '    symmetry (mean):                      0.106  0.304\\n'\n",
      " '    fractal dimension (mean):             0.05   0.097\\n'\n",
      " '    radius (standard error):              0.112  2.873\\n'\n",
      " '    texture (standard error):             0.36   4.885\\n'\n",
      " '    perimeter (standard error):           0.757  21.98\\n'\n",
      " '    area (standard error):                6.802  542.2\\n'\n",
      " '    smoothness (standard error):          0.002  0.031\\n'\n",
      " '    compactness (standard error):         0.002  0.135\\n'\n",
      " '    concavity (standard error):           0.0    0.396\\n'\n",
      " '    concave points (standard error):      0.0    0.053\\n'\n",
      " '    symmetry (standard error):            0.008  0.079\\n'\n",
      " '    fractal dimension (standard error):   0.001  0.03\\n'\n",
      " '    radius (worst):                       7.93   36.04\\n'\n",
      " '    texture (worst):                      12.02  49.54\\n'\n",
      " '    perimeter (worst):                    50.41  251.2\\n'\n",
      " '    area (worst):                         185.2  4254.0\\n'\n",
      " '    smoothness (worst):                   0.071  0.223\\n'\n",
      " '    compactness (worst):                  0.027  1.058\\n'\n",
      " '    concavity (worst):                    0.0    1.252\\n'\n",
      " '    concave points (worst):               0.0    0.291\\n'\n",
      " '    symmetry (worst):                     0.156  0.664\\n'\n",
      " '    fractal dimension (worst):            0.055  0.208\\n'\n",
      " '    ===================================== ====== ======\\n'\n",
      " '\\n'\n",
      " '    :Missing Attribute Values: None\\n'\n",
      " '\\n'\n",
      " '    :Class Distribution: 212 - Malignant, 357 - Benign\\n'\n",
      " '\\n'\n",
      " '    :Creator:  Dr. William H. Wolberg, W. Nick Street, Olvi L. Mangasarian\\n'\n",
      " '\\n'\n",
      " '    :Donor: Nick Street\\n'\n",
      " '\\n'\n",
      " '    :Date: November, 1995\\n'\n",
      " '\\n'\n",
      " 'This is a copy of UCI ML Breast Cancer Wisconsin (Diagnostic) datasets.\\n'\n",
      " 'https://goo.gl/U2Uwz2\\n'\n",
      " '\\n'\n",
      " 'Features are computed from a digitized image of a fine needle\\n'\n",
      " 'aspirate (FNA) of a breast mass.  They describe\\n'\n",
      " 'characteristics of the cell nuclei present in the image.\\n'\n",
      " '\\n'\n",
      " 'Separating plane described above was obtained using\\n'\n",
      " 'Multisurface Method-Tree (MSM-T) [K. P. Bennett, \"Decision Tree\\n'\n",
      " 'Construction Via Linear Programming.\" Proceedings of the 4th\\n'\n",
      " 'Midwest Artificial Intelligence and Cognitive Science Society,\\n'\n",
      " 'pp. 97-101, 1992], a classification method which uses linear\\n'\n",
      " 'programming to construct a decision tree.  Relevant features\\n'\n",
      " 'were selected using an exhaustive search in the space of 1-4\\n'\n",
      " 'features and 1-3 separating planes.\\n'\n",
      " '\\n'\n",
      " 'The actual linear program used to obtain the separating plane\\n'\n",
      " 'in the 3-dimensional space is that described in:\\n'\n",
      " '[K. P. Bennett and O. L. Mangasarian: \"Robust Linear\\n'\n",
      " 'Programming Discrimination of Two Linearly Inseparable Sets\",\\n'\n",
      " 'Optimization Methods and Software 1, 1992, 23-34].\\n'\n",
      " '\\n'\n",
      " 'This database is also available through the UW CS ftp server:\\n'\n",
      " '\\n'\n",
      " 'ftp ftp.cs.wisc.edu\\n'\n",
      " 'cd math-prog/cpo-dataset/machine-learn/WDBC/\\n'\n",
      " '\\n'\n",
      " 'References\\n'\n",
      " '----------\\n'\n",
      " '   - W.N. Street, W.H. Wolberg and O.L. Mangasarian. Nuclear feature '\n",
      " 'extraction \\n'\n",
      " '     for breast tumor diagnosis. IS&T/SPIE 1993 International Symposium on \\n'\n",
      " '     Electronic Imaging: Science and Technology, volume 1905, pages '\n",
      " '861-870,\\n'\n",
      " '     San Jose, CA, 1993.\\n'\n",
      " '   - O.L. Mangasarian, W.N. Street and W.H. Wolberg. Breast cancer diagnosis '\n",
      " 'and \\n'\n",
      " '     prognosis via linear programming. Operations Research, 43(4), pages '\n",
      " '570-577, \\n'\n",
      " '     July-August 1995.\\n'\n",
      " '   - W.H. Wolberg, W.N. Street, and O.L. Mangasarian. Machine learning '\n",
      " 'techniques\\n'\n",
      " '     to diagnose breast cancer from fine-needle aspirates. Cancer Letters 77 '\n",
      " '(1994) \\n'\n",
      " '     163-171.\\n')\n"
     ]
    }
   ],
   "source": [
    "pprint.pprint(cancer['DESCR'])"
   ]
  },
  {
   "cell_type": "code",
   "execution_count": 16,
   "metadata": {},
   "outputs": [
    {
     "data": {
      "text/plain": [
       "(569, 30)"
      ]
     },
     "execution_count": 16,
     "metadata": {},
     "output_type": "execute_result"
    }
   ],
   "source": [
    "len(cancer['data']), len(cancer['data'][0])"
   ]
  },
  {
   "cell_type": "markdown",
   "metadata": {},
   "source": [
    "#### Question 0 (Example)\n",
    "How many features does the breast cancer dataset have?"
   ]
  },
  {
   "cell_type": "code",
   "execution_count": 25,
   "metadata": {},
   "outputs": [
    {
     "data": {
      "text/plain": [
       "30"
      ]
     },
     "execution_count": 25,
     "metadata": {},
     "output_type": "execute_result"
    }
   ],
   "source": [
    "## no of features:\n",
    "cancer['data'].shape[1]"
   ]
  },
  {
   "cell_type": "markdown",
   "metadata": {},
   "source": [
    "#### Question 1\n",
    "Scikit-learn works with lists, numpy arrays, scipy-sparse matrices, and pandas DataFrames, so converting the dataset to a DataFrame is not necessary for training this model. Using a DataFrame does however help make many things easier such as munging data, so let's practice creating a classifier with a pandas DataFrame.\n",
    "\n",
    "Convert the sklearn.dataset cancer to a DataFrame.\n",
    "\n",
    "This function should return a (569, 31) DataFrame with\n",
    "\n",
    "columns =\n",
    "\n",
    "['mean radius', 'mean texture', 'mean perimeter', 'mean area',\n",
    "'mean smoothness', 'mean compactness', 'mean concavity',\n",
    "'mean concave points', 'mean symmetry', 'mean fractal dimension',\n",
    "'radius error', 'texture error', 'perimeter error', 'area error',\n",
    "'smoothness error', 'compactness error', 'concavity error',\n",
    "'concave points error', 'symmetry error', 'fractal dimension error',\n",
    "'worst radius', 'worst texture', 'worst perimeter', 'worst area',\n",
    "'worst smoothness', 'worst compactness', 'worst concavity',\n",
    "'worst concave points', 'worst symmetry', 'worst fractal dimension',\n",
    "'target']\n",
    "\n",
    "and index =\n",
    "\n",
    "RangeIndex(start=0, stop=569, step=1)"
   ]
  },
  {
   "cell_type": "code",
   "execution_count": 61,
   "metadata": {},
   "outputs": [
    {
     "data": {
      "text/html": [
       "<div>\n",
       "<style>\n",
       "    .dataframe thead tr:only-child th {\n",
       "        text-align: right;\n",
       "    }\n",
       "\n",
       "    .dataframe thead th {\n",
       "        text-align: left;\n",
       "    }\n",
       "\n",
       "    .dataframe tbody tr th {\n",
       "        vertical-align: top;\n",
       "    }\n",
       "</style>\n",
       "<table border=\"1\" class=\"dataframe\">\n",
       "  <thead>\n",
       "    <tr style=\"text-align: right;\">\n",
       "      <th></th>\n",
       "      <th>mean radius</th>\n",
       "      <th>mean texture</th>\n",
       "      <th>mean perimeter</th>\n",
       "      <th>mean area</th>\n",
       "      <th>mean smoothness</th>\n",
       "      <th>mean compactness</th>\n",
       "      <th>mean concavity</th>\n",
       "      <th>mean concave points</th>\n",
       "      <th>mean symmetry</th>\n",
       "      <th>mean fractal dimension</th>\n",
       "      <th>...</th>\n",
       "      <th>worst texture</th>\n",
       "      <th>worst perimeter</th>\n",
       "      <th>worst area</th>\n",
       "      <th>worst smoothness</th>\n",
       "      <th>worst compactness</th>\n",
       "      <th>worst concavity</th>\n",
       "      <th>worst concave points</th>\n",
       "      <th>worst symmetry</th>\n",
       "      <th>worst fractal dimension</th>\n",
       "      <th>target</th>\n",
       "    </tr>\n",
       "  </thead>\n",
       "  <tbody>\n",
       "    <tr>\n",
       "      <th>0</th>\n",
       "      <td>17.99</td>\n",
       "      <td>10.38</td>\n",
       "      <td>122.80</td>\n",
       "      <td>1001.0</td>\n",
       "      <td>0.11840</td>\n",
       "      <td>0.27760</td>\n",
       "      <td>0.3001</td>\n",
       "      <td>0.14710</td>\n",
       "      <td>0.2419</td>\n",
       "      <td>0.07871</td>\n",
       "      <td>...</td>\n",
       "      <td>17.33</td>\n",
       "      <td>184.60</td>\n",
       "      <td>2019.0</td>\n",
       "      <td>0.1622</td>\n",
       "      <td>0.6656</td>\n",
       "      <td>0.7119</td>\n",
       "      <td>0.2654</td>\n",
       "      <td>0.4601</td>\n",
       "      <td>0.11890</td>\n",
       "      <td>0.0</td>\n",
       "    </tr>\n",
       "    <tr>\n",
       "      <th>1</th>\n",
       "      <td>20.57</td>\n",
       "      <td>17.77</td>\n",
       "      <td>132.90</td>\n",
       "      <td>1326.0</td>\n",
       "      <td>0.08474</td>\n",
       "      <td>0.07864</td>\n",
       "      <td>0.0869</td>\n",
       "      <td>0.07017</td>\n",
       "      <td>0.1812</td>\n",
       "      <td>0.05667</td>\n",
       "      <td>...</td>\n",
       "      <td>23.41</td>\n",
       "      <td>158.80</td>\n",
       "      <td>1956.0</td>\n",
       "      <td>0.1238</td>\n",
       "      <td>0.1866</td>\n",
       "      <td>0.2416</td>\n",
       "      <td>0.1860</td>\n",
       "      <td>0.2750</td>\n",
       "      <td>0.08902</td>\n",
       "      <td>0.0</td>\n",
       "    </tr>\n",
       "    <tr>\n",
       "      <th>2</th>\n",
       "      <td>19.69</td>\n",
       "      <td>21.25</td>\n",
       "      <td>130.00</td>\n",
       "      <td>1203.0</td>\n",
       "      <td>0.10960</td>\n",
       "      <td>0.15990</td>\n",
       "      <td>0.1974</td>\n",
       "      <td>0.12790</td>\n",
       "      <td>0.2069</td>\n",
       "      <td>0.05999</td>\n",
       "      <td>...</td>\n",
       "      <td>25.53</td>\n",
       "      <td>152.50</td>\n",
       "      <td>1709.0</td>\n",
       "      <td>0.1444</td>\n",
       "      <td>0.4245</td>\n",
       "      <td>0.4504</td>\n",
       "      <td>0.2430</td>\n",
       "      <td>0.3613</td>\n",
       "      <td>0.08758</td>\n",
       "      <td>0.0</td>\n",
       "    </tr>\n",
       "    <tr>\n",
       "      <th>3</th>\n",
       "      <td>11.42</td>\n",
       "      <td>20.38</td>\n",
       "      <td>77.58</td>\n",
       "      <td>386.1</td>\n",
       "      <td>0.14250</td>\n",
       "      <td>0.28390</td>\n",
       "      <td>0.2414</td>\n",
       "      <td>0.10520</td>\n",
       "      <td>0.2597</td>\n",
       "      <td>0.09744</td>\n",
       "      <td>...</td>\n",
       "      <td>26.50</td>\n",
       "      <td>98.87</td>\n",
       "      <td>567.7</td>\n",
       "      <td>0.2098</td>\n",
       "      <td>0.8663</td>\n",
       "      <td>0.6869</td>\n",
       "      <td>0.2575</td>\n",
       "      <td>0.6638</td>\n",
       "      <td>0.17300</td>\n",
       "      <td>0.0</td>\n",
       "    </tr>\n",
       "    <tr>\n",
       "      <th>4</th>\n",
       "      <td>20.29</td>\n",
       "      <td>14.34</td>\n",
       "      <td>135.10</td>\n",
       "      <td>1297.0</td>\n",
       "      <td>0.10030</td>\n",
       "      <td>0.13280</td>\n",
       "      <td>0.1980</td>\n",
       "      <td>0.10430</td>\n",
       "      <td>0.1809</td>\n",
       "      <td>0.05883</td>\n",
       "      <td>...</td>\n",
       "      <td>16.67</td>\n",
       "      <td>152.20</td>\n",
       "      <td>1575.0</td>\n",
       "      <td>0.1374</td>\n",
       "      <td>0.2050</td>\n",
       "      <td>0.4000</td>\n",
       "      <td>0.1625</td>\n",
       "      <td>0.2364</td>\n",
       "      <td>0.07678</td>\n",
       "      <td>0.0</td>\n",
       "    </tr>\n",
       "  </tbody>\n",
       "</table>\n",
       "<p>5 rows × 31 columns</p>\n",
       "</div>"
      ],
      "text/plain": [
       "   mean radius  mean texture  mean perimeter  mean area  mean smoothness  \\\n",
       "0        17.99         10.38          122.80     1001.0          0.11840   \n",
       "1        20.57         17.77          132.90     1326.0          0.08474   \n",
       "2        19.69         21.25          130.00     1203.0          0.10960   \n",
       "3        11.42         20.38           77.58      386.1          0.14250   \n",
       "4        20.29         14.34          135.10     1297.0          0.10030   \n",
       "\n",
       "   mean compactness  mean concavity  mean concave points  mean symmetry  \\\n",
       "0           0.27760          0.3001              0.14710         0.2419   \n",
       "1           0.07864          0.0869              0.07017         0.1812   \n",
       "2           0.15990          0.1974              0.12790         0.2069   \n",
       "3           0.28390          0.2414              0.10520         0.2597   \n",
       "4           0.13280          0.1980              0.10430         0.1809   \n",
       "\n",
       "   mean fractal dimension   ...    worst texture  worst perimeter  worst area  \\\n",
       "0                 0.07871   ...            17.33           184.60      2019.0   \n",
       "1                 0.05667   ...            23.41           158.80      1956.0   \n",
       "2                 0.05999   ...            25.53           152.50      1709.0   \n",
       "3                 0.09744   ...            26.50            98.87       567.7   \n",
       "4                 0.05883   ...            16.67           152.20      1575.0   \n",
       "\n",
       "   worst smoothness  worst compactness  worst concavity  worst concave points  \\\n",
       "0            0.1622             0.6656           0.7119                0.2654   \n",
       "1            0.1238             0.1866           0.2416                0.1860   \n",
       "2            0.1444             0.4245           0.4504                0.2430   \n",
       "3            0.2098             0.8663           0.6869                0.2575   \n",
       "4            0.1374             0.2050           0.4000                0.1625   \n",
       "\n",
       "   worst symmetry  worst fractal dimension  target  \n",
       "0          0.4601                  0.11890     0.0  \n",
       "1          0.2750                  0.08902     0.0  \n",
       "2          0.3613                  0.08758     0.0  \n",
       "3          0.6638                  0.17300     0.0  \n",
       "4          0.2364                  0.07678     0.0  \n",
       "\n",
       "[5 rows x 31 columns]"
      ]
     },
     "execution_count": 61,
     "metadata": {},
     "output_type": "execute_result"
    }
   ],
   "source": [
    "all_cols = np.hstack((cancer['data'],cancer['target'][:,np.newaxis]))\n",
    "all_cols_names = np.append(cancer['feature_names'],'target')\n",
    "cancer_df = pd.DataFrame(all_cols,columns = all_cols_names)\n",
    "cancer_df.head()"
   ]
  },
  {
   "cell_type": "markdown",
   "metadata": {},
   "source": [
    "#### Question 2\n",
    "What is the class distribution? (i.e. how many instances of malignant (encoded 0) and how many benign (encoded 1)?)"
   ]
  },
  {
   "cell_type": "code",
   "execution_count": 93,
   "metadata": {},
   "outputs": [
    {
     "data": {
      "text/html": [
       "<div>\n",
       "<style>\n",
       "    .dataframe thead tr:only-child th {\n",
       "        text-align: right;\n",
       "    }\n",
       "\n",
       "    .dataframe thead th {\n",
       "        text-align: left;\n",
       "    }\n",
       "\n",
       "    .dataframe tbody tr th {\n",
       "        vertical-align: top;\n",
       "    }\n",
       "</style>\n",
       "<table border=\"1\" class=\"dataframe\">\n",
       "  <thead>\n",
       "    <tr style=\"text-align: right;\">\n",
       "      <th>col_0</th>\n",
       "      <th>malignant (1)/ benign (0)</th>\n",
       "    </tr>\n",
       "    <tr>\n",
       "      <th>target</th>\n",
       "      <th></th>\n",
       "    </tr>\n",
       "  </thead>\n",
       "  <tbody>\n",
       "    <tr>\n",
       "      <th>0.0</th>\n",
       "      <td>212</td>\n",
       "    </tr>\n",
       "    <tr>\n",
       "      <th>1.0</th>\n",
       "      <td>357</td>\n",
       "    </tr>\n",
       "  </tbody>\n",
       "</table>\n",
       "</div>"
      ],
      "text/plain": [
       "col_0   malignant (1)/ benign (0)\n",
       "target                           \n",
       "0.0                           212\n",
       "1.0                           357"
      ]
     },
     "execution_count": 93,
     "metadata": {},
     "output_type": "execute_result"
    }
   ],
   "source": [
    "# different ways:\n",
    "cancer_df['target'].value_counts()\n",
    "cancer_df.groupby('target').agg('count')\n",
    "cancer_df.groupby('target').size()\n",
    "pd.crosstab(cancer_df['target'],columns='malignant (1)/ benign (0)')"
   ]
  },
  {
   "cell_type": "markdown",
   "metadata": {},
   "source": [
    "#### Question 3\n",
    "Split the DataFrame into X (the data) and y (the labels).\n",
    "\n",
    "This function should return a tuple of length 2: (X, y), where\n",
    "\n",
    "X has shape (569, 30)\n",
    "y has shape (569,)."
   ]
  },
  {
   "cell_type": "code",
   "execution_count": 350,
   "metadata": {},
   "outputs": [
    {
     "data": {
      "text/plain": [
       "array([[ 1.09706398, -2.07333501,  1.26993369, ...,  2.29607613,\n",
       "         2.75062224,  1.93701461],\n",
       "       [ 1.82982061, -0.35363241,  1.68595471, ...,  1.0870843 ,\n",
       "        -0.24388967,  0.28118999],\n",
       "       [ 1.57988811,  0.45618695,  1.56650313, ...,  1.95500035,\n",
       "         1.152255  ,  0.20139121],\n",
       "       ..., \n",
       "       [ 0.70228425,  2.0455738 ,  0.67267578, ...,  0.41406869,\n",
       "        -1.10454895, -0.31840916],\n",
       "       [ 1.83834103,  2.33645719,  1.98252415, ...,  2.28998549,\n",
       "         1.91908301,  2.21963528],\n",
       "       [-1.80840125,  1.22179204, -1.81438851, ..., -1.74506282,\n",
       "        -0.04813821, -0.75120669]])"
      ]
     },
     "execution_count": 350,
     "metadata": {},
     "output_type": "execute_result"
    }
   ],
   "source": [
    "def split_df(df):\n",
    "    \n",
    "    X = cancer_df.iloc[:,:-1]\n",
    "    y = cancer_df.iloc[:,-1]\n",
    "    \n",
    "    return X,y\n",
    "\n",
    "X,y = split_df(cancer_df)\n",
    "\n",
    "#additionally normalize Xs:\n",
    "from sklearn import preprocessing\n",
    "X_normalized = preprocessing.scale(X)\n",
    "X_normalized\n",
    "#np.mean(X_normalized,axis=0)\n",
    "#(X['mean radius'] - np.mean(X['mean radius']))/np.std(X['mean radius']), X_normalized"
   ]
  },
  {
   "cell_type": "markdown",
   "metadata": {},
   "source": [
    "#### Question 4\n",
    "Using train_test_split, split X and y into training and test sets (X_train, X_test, y_train, and y_test).\n",
    "\n",
    "Set the random number generator state to 0 using random_state=0 to make sure your results match the autograder!\n",
    "\n",
    "This function should return a tuple of length 4: (X_train, X_test, y_train, y_test), where\n",
    "\n",
    "X_train has shape (426, 30)\n",
    "X_test has shape (143, 30)\n",
    "y_train has shape (426,)\n",
    "y_test has shape (143,)"
   ]
  },
  {
   "cell_type": "code",
   "execution_count": 351,
   "metadata": {
    "collapsed": true
   },
   "outputs": [],
   "source": [
    "from sklearn.model_selection import train_test_split\n",
    "\n",
    "X_train, X_test, y_train, y_test = train_test_split(X_normalized, y, random_state = 0, test_size = 0.25)"
   ]
  },
  {
   "cell_type": "markdown",
   "metadata": {},
   "source": [
    "#### Question 5\n",
    "Using KNeighborsClassifier, fit a k-nearest neighbors (knn) classifier with X_train, y_train and using one nearest neighbor (n_neighbors = 1).\n",
    "\n",
    "This function should return a  sklearn.neighbors.classification.KNeighborsClassifier."
   ]
  },
  {
   "cell_type": "code",
   "execution_count": 352,
   "metadata": {},
   "outputs": [
    {
     "data": {
      "text/plain": [
       "KNeighborsClassifier(algorithm='auto', leaf_size=30, metric='minkowski',\n",
       "           metric_params=None, n_jobs=1, n_neighbors=1, p=2,\n",
       "           weights='uniform')"
      ]
     },
     "execution_count": 352,
     "metadata": {},
     "output_type": "execute_result"
    }
   ],
   "source": [
    "from  sklearn.neighbors  import KNeighborsClassifier\n",
    "\n",
    "knn = KNeighborsClassifier(n_neighbors = 1)\n",
    "knn.fit(X = X_train, y = y_train)\n",
    "\n"
   ]
  },
  {
   "cell_type": "markdown",
   "metadata": {},
   "source": [
    "#### Question 6¶\n",
    "Using your knn classifier, predict the class label using the mean value for each feature.\n",
    "\n",
    "Hint: You can use cancerdf.mean()[:-1].values.reshape(1, -1) which gets the mean value for each feature, ignores the target column, and reshapes the data from 1 dimension to 2 (necessary for the precict method of KNeighborsClassifier).\n",
    "\n",
    "This function should return a numpy array either array([ 0.]) or array([ 1.])"
   ]
  },
  {
   "cell_type": "code",
   "execution_count": 353,
   "metadata": {},
   "outputs": [
    {
     "data": {
      "text/plain": [
       "array([ 0.])"
      ]
     },
     "execution_count": 353,
     "metadata": {},
     "output_type": "execute_result"
    }
   ],
   "source": [
    "means = cancer_df.mean()[:-1].values.reshape(1, -1)\n",
    "knn.predict(means)"
   ]
  },
  {
   "cell_type": "markdown",
   "metadata": {},
   "source": [
    "#### Question 7\n",
    "Using your knn classifier, predict the class labels for the test set X_test.\n",
    "\n",
    "This function should return a numpy array with shape (143,) and values either 0.0 or 1.0."
   ]
  },
  {
   "cell_type": "code",
   "execution_count": 354,
   "metadata": {},
   "outputs": [
    {
     "data": {
      "text/plain": [
       "array([ 0.,  1.,  1.,  1.,  1.,  1.,  1.,  1.,  1.,  1.,  1.,  1.,  1.,\n",
       "        1.,  0.,  0.,  1.,  0.,  0.,  0.,  0.,  0.,  1.,  1.,  0.,  1.,\n",
       "        1.,  0.,  1.,  0.,  1.,  0.,  1.,  0.,  1.,  0.,  1.,  0.,  1.,\n",
       "        0.,  1.,  1.,  0.,  1.,  1.,  0.,  1.,  1.,  1.,  0.,  0.,  0.,\n",
       "        0.,  1.,  1.,  1.,  1.,  1.,  1.,  0.,  0.,  0.,  1.,  1.,  0.,\n",
       "        1.,  0.,  0.,  0.,  1.,  0.,  0.,  1.,  0.,  0.,  1.,  1.,  1.,\n",
       "        1.,  1.,  0.,  0.,  0.,  1.,  0.,  1.,  1.,  1.,  0.,  0.,  1.,\n",
       "        0.,  1.,  0.,  1.,  1.,  0.,  1.,  1.,  1.,  1.,  1.,  1.,  1.,\n",
       "        0.,  1.,  0.,  1.,  1.,  1.,  1.,  0.,  0.,  0.,  1.,  1.,  1.,\n",
       "        1.,  1.,  1.,  1.,  1.,  0.,  1.,  0.,  1.,  1.,  1.,  1.,  1.,\n",
       "        0.,  1.,  1.,  0.,  1.,  1.,  1.,  1.,  0.,  1.,  1.,  1.,  0.])"
      ]
     },
     "execution_count": 354,
     "metadata": {},
     "output_type": "execute_result"
    }
   ],
   "source": [
    "prediction = knn.predict(X_test)\n",
    "prediction"
   ]
  },
  {
   "cell_type": "markdown",
   "metadata": {},
   "source": [
    "#### Question 8\n",
    "Find the score (mean accuracy) of your knn classifier using X_test and y_test.\n",
    "\n",
    "This function should return a float between 0 and 1"
   ]
  },
  {
   "cell_type": "code",
   "execution_count": 355,
   "metadata": {},
   "outputs": [
    {
     "data": {
      "text/plain": [
       "0.94405594405594406"
      ]
     },
     "execution_count": 355,
     "metadata": {},
     "output_type": "execute_result"
    }
   ],
   "source": [
    "accuracy = knn.score(X_test, y_test)\n",
    "accuracy"
   ]
  },
  {
   "cell_type": "code",
   "execution_count": 356,
   "metadata": {
    "collapsed": true
   },
   "outputs": [],
   "source": [
    "### additional metrics - confusion matrix\n",
    "from sklearn.metrics import confusion_matrix\n",
    "conf_matrix = confusion_matrix(y_test,prediction)"
   ]
  },
  {
   "cell_type": "code",
   "execution_count": 357,
   "metadata": {},
   "outputs": [
    {
     "data": {
      "text/plain": [
       "array([[49,  4],\n",
       "       [ 4, 86]], dtype=int64)"
      ]
     },
     "execution_count": 357,
     "metadata": {},
     "output_type": "execute_result"
    }
   ],
   "source": [
    "conf_matrix"
   ]
  },
  {
   "cell_type": "code",
   "execution_count": 364,
   "metadata": {},
   "outputs": [
    {
     "data": {
      "image/png": "[encoded data removed]",
      "text/plain": [
       "<matplotlib.figure.Figure at 0xce58fa25f8>"
      ]
     },
     "metadata": {},
     "output_type": "display_data"
    }
   ],
   "source": [
    "import matplotlib.pyplot as plt\n",
    "import seaborn as sns\n",
    "\n",
    "labels = ['True Negative','False Positive','False Negative','True Positive']\n",
    "fig, ax = plt.subplots()\n",
    "ax = sns.barplot(labels,conf_matrix.flatten(),palette=\"Set2\",label = labels)\n",
    "sns.despine()\n",
    "plt.show()"
   ]
  },
  {
   "cell_type": "code",
   "execution_count": 359,
   "metadata": {
    "collapsed": true
   },
   "outputs": [],
   "source": [
    "precision = conf_matrix[-1][-1]/np.sum(conf_matrix,axis=0)[1]"
   ]
  },
  {
   "cell_type": "code",
   "execution_count": 360,
   "metadata": {
    "collapsed": true
   },
   "outputs": [],
   "source": [
    "recall = conf_matrix[-1][-1]/np.sum(conf_matrix,axis=1)[1]"
   ]
  },
  {
   "cell_type": "code",
   "execution_count": 363,
   "metadata": {},
   "outputs": [
    {
     "name": "stdout",
     "output_type": "stream",
     "text": [
      "precision equals: 95.6%\n",
      "recall equals: 95.6%, \n",
      "\n",
      "what indicates that predition as prone\n",
      "to type I error as to type II error - it is as probable to falsely predict malignant cancer\n",
      "as classify cancer as bening when in fact it is malignant.\n"
     ]
    }
   ],
   "source": [
    "print('precision equals: {:.1%}\\nrecall equals: {:.1%}, \\n\\nwhat indicates that predition as prone\\n'\n",
    "      'to type I error as to type II error - it is as probable to falsely predict malignant cancer\\n' \n",
    "      'as classify cancer as bening when in fact it is malignant.'.format(precision, recall))"
   ]
  },
  {
   "cell_type": "code",
   "execution_count": 362,
   "metadata": {},
   "outputs": [
    {
     "data": {
      "image/png": "[encoded data removed]",
      "text/plain": [
       "<matplotlib.figure.Figure at 0xce5a211a58>"
      ]
     },
     "metadata": {},
     "output_type": "display_data"
    }
   ],
   "source": [
    "fig, ax = plt.subplots()\n",
    "ax.bar(['precision','recall'],height=[precision,recall],color = ['#6600cc','#2d8659'],alpha =0.6)\n",
    "ax.set_ylim(0.8)\n",
    "for i in ax.patches:\n",
    "    # get_x pulls left or right; get_height pushes up or down\n",
    "    ax.text(i.get_x()+0.32, i.get_height()-0.03, \\\n",
    "            str(round((i.get_height()), 2)), fontsize=11,\n",
    "                rotation=0)\n",
    "plt.show()"
   ]
  },
  {
   "cell_type": "code",
   "execution_count": null,
   "metadata": {
    "collapsed": true
   },
   "outputs": [],
   "source": []
  }
 ],
 "metadata": {
  "kernelspec": {
   "display_name": "Python 3",
   "language": "python",
   "name": "python3"
  },
  "language_info": {
   "codemirror_mode": {
    "name": "ipython",
    "version": 3
   },
   "file_extension": ".py",
   "mimetype": "text/x-python",
   "name": "python",
   "nbconvert_exporter": "python",
   "pygments_lexer": "ipython3",
   "version": "3.6.3"
  }
 },
 "nbformat": 4,
 "nbformat_minor": 2
}
